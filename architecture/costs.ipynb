{
 "cells": [
  {
   "cell_type": "markdown",
   "metadata": {},
   "source": [
    "# Estimación de costos: Proyecto de Análisis Genómico: Biotech Explorer Corp"
   ]
  },
  {
   "cell_type": "markdown",
   "metadata": {},
   "source": [
    "Estimación AWS: https://calculator.aws/#/estimate?id=ef7f84aa8f064d58cef41f09684759c72ebb44aa\n",
    "\n",
    "Análisis y descripción de los costos de la arquitectura planteada para el caso **Biotech Explorer Corp**.\n",
    "\n",
    "La arquitectura se divide en tres partes principales:\n",
    "\n",
    "1. Acceso a los datos (API de terceros y almacenamiento de datos genómicos crudos en S3)\n",
    "2. Preprocesamiento y entrenamiento (procesamiento intensivo de datos, almacenamiento compartido, y uso de servicios de bases de datos)\n",
    "3. Acceso a resultados y predicciones (entrega de resultados procesados y modelos entrenados para hacer predicciones)\n"
   ]
  },
  {
   "cell_type": "code",
   "execution_count": 32,
   "metadata": {},
   "outputs": [],
   "source": [
    "import pandas as pd"
   ]
  },
  {
   "cell_type": "code",
   "execution_count": 33,
   "metadata": {},
   "outputs": [],
   "source": [
    "config = []"
   ]
  },
  {
   "cell_type": "markdown",
   "metadata": {},
   "source": [
    "## 1. Acceso a los Datos"
   ]
  },
  {
   "cell_type": "markdown",
   "metadata": {},
   "source": [
    "### Amazon EC2 (t4g.micro)"
   ]
  },
  {
   "cell_type": "code",
   "execution_count": 34,
   "metadata": {},
   "outputs": [],
   "source": [
    "ec2_get_data_instance = {\n",
    "    \"Service Name\": \"Amazon EC2 \",\n",
    "    \"Group\": \"Data Access\",\n",
    "    \"Description\": \"EC2 Biotech Get Data\",\n",
    "    \"Region\": \"US East (N. Virginia)\",\n",
    "    \"Service Cost\": {\n",
    "        \"monthly\": \"9.15\",\n",
    "        \"upfront\": \"0.00\",\n",
    "        \"12 months\": \"109.80\"\n",
    "    },\n",
    "    \"Properties\": {\n",
    "        \"Tenancy\": \"Shared Instances\",\n",
    "        \"Operating system\": \"Linux\",\n",
    "        \"Workload\": \"Consistent, Number of instances: 1\",\n",
    "        \"Advance EC2 instance\": \"t4g.micro\",\n",
    "        \"Pricing strategy\": \"Standard Reserved Instances 3yr No Upfront\",\n",
    "        \"Enable monitoring\": \"disabled\",\n",
    "        \"EBS Storage amount\": \"50 GB\",\n",
    "        \"DT Inbound: All other regions\": \"500 TB per month\",\n",
    "        \"DT Outbound: Amazon CloudFront\": \"50 GB per month\",\n",
    "        \"DT Intra-Region:\": \"0 TB per month\"\n",
    "    }\n",
    "}\n",
    "\n",
    "config.append(ec2_get_data_instance)"
   ]
  },
  {
   "cell_type": "markdown",
   "metadata": {},
   "source": [
    "Para la tarea de recoger datos de la API de terceros, hemos seleccionado una instancia t4g.micro de EC2. Esta instancia es suficiente ya que solo requiere acceder a la API periódicamente para obtener los datos genómicos y enviarlos a Amazon S3."
   ]
  },
  {
   "cell_type": "markdown",
   "metadata": {},
   "source": [
    "### Amazon S3 Standard"
   ]
  },
  {
   "cell_type": "code",
   "execution_count": 35,
   "metadata": {},
   "outputs": [],
   "source": [
    "s3_standard = {\n",
    "    \"Service Name\": \"S3 Standard\",\n",
    "    \"Group\": \"Data Access\",\n",
    "    \"Description\": \"S3 Biotech\",\n",
    "    \"Region\": \"US East (N. Virginia)\",\n",
    "    \"Service Cost\": {\n",
    "        \"monthly\": \"24.27\",\n",
    "        \"upfront\": \"0.00\",\n",
    "        \"12 months\": \"291.24\"\n",
    "    },\n",
    "    \"Properties\": {\n",
    "        \"S3 Standard storage\": \"1 TB per month\",\n",
    "        \"PUT, COPY, POST, LIST requests to S3 Standard\": \"1000\",\n",
    "        \"GET, SELECT, and all other requests from S3 Standard\": \"1000\",\n",
    "        \"Data returned by S3 Select\": \"1 TB per month\"\n",
    "    }\n",
    "}\n",
    "config.append(s3_standard)"
   ]
  },
  {
   "cell_type": "markdown",
   "metadata": {},
   "source": [
    "Los datos genómicos recogidos de la API se almacenan en Amazon S3 en su formato crudo. Seleccionamos S3 Standard porque los datos en esta etapa son accedidos frecuentemente durante el preprocesamiento y el entrenamiento de modelos."
   ]
  },
  {
   "cell_type": "markdown",
   "metadata": {},
   "source": [
    "### S3 Glacier Flexible Retrieval"
   ]
  },
  {
   "cell_type": "code",
   "execution_count": 36,
   "metadata": {},
   "outputs": [],
   "source": [
    "s3_glacier = {\n",
    "    \"Service Name\": \"S3 Glacier Flexible Retrieval\",\n",
    "    \"Group\": \"Data Access\",\n",
    "    \"Description\": \"S3 Biotech\",\n",
    "    \"Region\": \"US East (N. Virginia)\",\n",
    "    \"Service Cost\": {\n",
    "        \"monthly\": \"6.91\",\n",
    "        \"upfront\": \"0.00\",\n",
    "        \"12 months\": \"82.92\"\n",
    "    },\n",
    "    \"Properties\": {\n",
    "        \"S3 Glacier Flexible Retrieval Average Object Size\": \"16 MB\",\n",
    "        \"Provisioned Capacity Units\": \"0\",\n",
    "        \"S3 Glacier Flexible Retrieval storage\": \"500 GB per month\",\n",
    "        \"PUT, COPY, POST, LIST requests to S3 Glacier Flexible Retrieval\": \"10\",\n",
    "        \"Lifecycle Transitions into S3 Glacier Flexible Retrieval\": \"10\",\n",
    "        \"Restore requests (Standard)\": \"10\",\n",
    "        \"Restore requests (Expedited)\": \"10\",\n",
    "        \"Restore requests (Bulk)\": \"10\",\n",
    "        \"Data retrievals (Standard)\": \"500 GB per month\",\n",
    "        \"Data retrievals (Bulk)\": \"500 GB per month\"\n",
    "    }\n",
    "}\n",
    "config.append(s3_glacier)"
   ]
  },
  {
   "cell_type": "markdown",
   "metadata": {},
   "source": [
    "Hemos seleccionado el uso de S3 Glacier Flexible Retrieval para almacenar datos genómicos antiguos que no se acceden con frecuencia. Para almacenar los datos a un costo significativamente más bajo, con tiempos de respuesta flexibles."
   ]
  },
  {
   "cell_type": "markdown",
   "metadata": {},
   "source": [
    "## 2. Preprocesamiento y Entrenamiento"
   ]
  },
  {
   "cell_type": "markdown",
   "metadata": {},
   "source": [
    "### Amazon EC2 (t4g.xlarge)"
   ]
  },
  {
   "cell_type": "code",
   "execution_count": 37,
   "metadata": {},
   "outputs": [],
   "source": [
    "ec2_preprocess_data_instance = {\n",
    "    \"Service Name\": \"Amazon EC2 \",\n",
    "    \"Group\": \"Data Processing and Analysis\",\n",
    "    \"Description\": \"EC2 Biotech Preprocess Data\",\n",
    "    \"Region\": \"US East (N. Virginia)\",\n",
    "    \"Service Cost\": {\n",
    "        \"monthly\": \"48.86\",\n",
    "        \"upfront\": \"0.00\",\n",
    "        \"12 months\": \"586.32\"\n",
    "    },\n",
    "    \"Properties\": {\n",
    "        \"Tenancy\": \"Shared Instances\",\n",
    "        \"Operating system\": \"Linux\",\n",
    "        \"Workload\": \"Consistent, Number of instances: 1\",\n",
    "        \"Advance EC2 instance\": \"t4g.xlarge\",\n",
    "        \"Pricing strategy\": \"Standard Reserved Instances 3yr No Upfront\",\n",
    "        \"Enable monitoring\": \"disabled\",\n",
    "        \"EBS Storage amount\": \"50 GB\",\n",
    "        \"DT Inbound: All other regions\": \"500 TB per month\",\n",
    "        \"DT Outbound: Amazon CloudFront\": \"50 GB per month\",\n",
    "        \"DT Intra-Region:\": \"0 TB per month\"\n",
    "    }\n",
    "}\n",
    "config.append(ec2_preprocess_data_instance)"
   ]
  },
  {
   "cell_type": "markdown",
   "metadata": {},
   "source": [
    "Para el preprocesamiento de los datos genómicos antes del entrenamiento, hemos elegido una instancia t4g.xlarge, una instancia de tamaño mediano basada en ARM que ofrece una buena relación de costo-beneficio. Hemos cotizado para tres años, lo que reduce costos significativamente con respecto a las instancias bajo demanda.\n"
   ]
  },
  {
   "cell_type": "markdown",
   "metadata": {},
   "source": [
    "### Amazon Elastic File System (EFS)"
   ]
  },
  {
   "cell_type": "code",
   "execution_count": 38,
   "metadata": {},
   "outputs": [],
   "source": [
    "efs = {\n",
    "    \"Service Name\": \"Amazon Elastic File System (EFS)\",\n",
    "    \"Group\": \"Data Processing and Analysis\",\n",
    "    \"Region\": \"US East (N. Virginia)\",\n",
    "    \"Service Cost\": {\n",
    "        \"monthly\": \"17.40\",\n",
    "        \"upfront\": \"0.00\",\n",
    "        \"12 months\": \"208.80\"\n",
    "    },\n",
    "    \"Properties\": {\n",
    "        \"Desired Storage Capacity\": \"200 GB per month\",\n",
    "        \"Read Data Transferred\": \"100 GB per month\",\n",
    "        \"Write Data Transferred\": \"200 GB per month\"\n",
    "    }\n",
    "}\n",
    "config.append(efs)"
   ]
  },
  {
   "cell_type": "markdown",
   "metadata": {},
   "source": [
    "Hemos elegido EFS para almacenamiento compartido entre las instancias EC2 que participan en el preprocesamiento y entrenamiento de los modelos. Esto permite que todos los nodos de procesamiento accedan a los mismos archivos temporales y de trabajo durante el proceso de análisis."
   ]
  },
  {
   "cell_type": "markdown",
   "metadata": {},
   "source": [
    "### Amazon RDS (PostgreSQL)"
   ]
  },
  {
   "cell_type": "code",
   "execution_count": 39,
   "metadata": {},
   "outputs": [],
   "source": [
    "rds = {\n",
    "    \"Service Name\": \"Amazon RDS for PostgreSQL\",\n",
    "    \"Group\": \"Data Processing and Analysis\",\n",
    "    \"Description\": \"RDS for PostgreSQL Biotech\",\n",
    "    \"Region\": \"US East (N. Virginia)\",\n",
    "    \"Service Cost\": {\n",
    "        \"monthly\": \"307.50\",\n",
    "        \"upfront\": \"0.00\",\n",
    "        \"12 months\": \"3690.00\"\n",
    "    },\n",
    "    \"Properties\": {\n",
    "        \"Storage amount\": \"100 GB\",\n",
    "        \"Storage volume\": \"General Purpose SSD (gp2)\",\n",
    "        \"Nodes\": \"2\",\n",
    "        \"Instance Type\": \"db.t3.medium\",\n",
    "        \"Utilization (On-Demand only)\": \"100 %Utilized/Month\",\n",
    "        \"Deployment Option\": \"Multi-AZ\",\n",
    "        \"Pricing Model\": \"OnDemand\"\n",
    "    }\n",
    "}\n",
    "config.append(rds)"
   ]
  },
  {
   "cell_type": "markdown",
   "metadata": {},
   "source": [
    "Hemos seleccionado Amazon RDS con PostgreSQL para almacenar los resultados estructurados del entrenamiento de los modelos. Configuramos Multi-AZ para garantizar la alta disponibilidad, ya que no estamos dispuestos a perder datos de entrenamiento y resultados."
   ]
  },
  {
   "cell_type": "markdown",
   "metadata": {},
   "source": [
    "### AWS Batch\n",
    "\n",
    "AWS Batch es el servicio clave para la gestión de cargas de trabajo por lotes (no es un servicio configurable en AWS calculator), ya que permite automatizar el escalado de las instancias EC2 en función de la cantidad de datos que se deben procesar. AWS Batch decide cuántas instancias EC2 se necesitan y las escala automáticamente según la carga de trabajo.\n",
    "\n",
    "**Importante**:\n",
    "\n",
    "AWS Batch puede aumentar los costos debido al uso de más instancias EC2 cuando las cargas de datos genómicos son mayores."
   ]
  },
  {
   "cell_type": "markdown",
   "metadata": {},
   "source": [
    "## 3. Acceso a Resultados y Predicciones"
   ]
  },
  {
   "cell_type": "markdown",
   "metadata": {},
   "source": [
    "### Amazon EKS"
   ]
  },
  {
   "cell_type": "code",
   "execution_count": 40,
   "metadata": {},
   "outputs": [],
   "source": [
    "eks = {\n",
    "    \"Service Name\": \"Amazon EKS\",\n",
    "    \"Group\": \"Model Prediction\",\n",
    "    \"Description\": \"Kubernetes Biotech\",\n",
    "    \"Region\": \"US East (N. Virginia)\",\n",
    "    \"Service Cost\": {\n",
    "        \"monthly\": \"438.00\",\n",
    "        \"upfront\": \"0.00\",\n",
    "        \"12 months\": \"5256.00\"\n",
    "    },\n",
    "    \"Properties\": {\n",
    "        \"Number of EKS Clusters\": \"1\"\n",
    "    }\n",
    "}\n",
    "config.append(eks)"
   ]
  },
  {
   "cell_type": "markdown",
   "metadata": {},
   "source": [
    "Seleccionamos EKS para orquestar los contenedores Docker que realizan las predicciones basadas en los modelos entrenados. EKS maneja de forma automática la distribución y el escalado de las predicciones en contenedores."
   ]
  },
  {
   "cell_type": "markdown",
   "metadata": {},
   "source": [
    "### Amazon EC2 (t4g.xlarge)"
   ]
  },
  {
   "cell_type": "code",
   "execution_count": 41,
   "metadata": {},
   "outputs": [],
   "source": [
    "ec2_deploy_model_instance = {\n",
    "    \"Service Name\": \"Amazon EC2 \",\n",
    "    \"Group\": \"Model Prediction\",\n",
    "    \"Description\": \"EC2 Biotech despliegue\",\n",
    "    \"Region\": \"US East (N. Virginia)\",\n",
    "    \"Service Cost\": {\n",
    "        \"monthly\": \"48.86\",\n",
    "        \"upfront\": \"0.00\",\n",
    "        \"12 months\": \"586.32\"\n",
    "    },\n",
    "    \"Properties\": {\n",
    "        \"Tenancy\": \"Shared Instances\",\n",
    "        \"Operating system\": \"Linux\",\n",
    "        \"Workload\": \"Consistent, Number of instances: 1\",\n",
    "        \"Advance EC2 instance\": \"t4g.xlarge\",\n",
    "        \"Pricing strategy\": \"Standard Reserved Instances 3yr No Upfront\",\n",
    "        \"Enable monitoring\": \"disabled\",\n",
    "        \"EBS Storage amount\": \"50 GB\",\n",
    "        \"DT Inbound: All other regions\": \"500 TB per month\",\n",
    "        \"DT Outbound: Amazon CloudFront\": \"50 GB per month\",\n",
    "        \"DT Intra-Region:\": \"0 TB per month\"\n",
    "    }\n",
    "}\n",
    "config.append(ec2_deploy_model_instance)"
   ]
  },
  {
   "cell_type": "markdown",
   "metadata": {},
   "source": [
    "Hemos seleccionado una instancia de EC2 t4g.xlarge para la ejecución de modelos de predicción. Esta instancia ofrece un buen rendimiento para generar predicciones basadas en los datos que han sido preprocesados y los modelos entrenados."
   ]
  },
  {
   "cell_type": "markdown",
   "metadata": {},
   "source": [
    "## General"
   ]
  },
  {
   "cell_type": "code",
   "execution_count": 42,
   "metadata": {},
   "outputs": [],
   "source": [
    "cloud_watch = {\n",
    "    \"Service Name\": \"Amazon CloudWatch\",\n",
    "    \"Group\": \"General\",\n",
    "    \"Description\": \"Monitoreo Biotech \",\n",
    "    \"Region\": \"US East (N. Virginia)\",\n",
    "    \"Service Cost\": {\n",
    "        \"monthly\": \"147.85\",\n",
    "        \"upfront\": \"0.00\",\n",
    "        \"12 months\": \"1774.20\"\n",
    "    },\n",
    "    \"Properties\": {\n",
    "        \"Number of Metrics (includes detailed and custom metrics)\": \"20\",\n",
    "        \"GetMetricData: Number of metrics requested\": \"100\",\n",
    "        \"Number of other API requests\": \"100\",\n",
    "        \"Standard Logs: Data Ingested\": \"100 GB\",\n",
    "        \"Logs Delivered to CloudWatch Logs: Data Ingested\": \"100 GB\",\n",
    "        \"Logs Delivered to S3: Data Ingested\": \"100 GB\",\n",
    "        \"Expected Logs Data scanned\": \"50 GB\",\n",
    "        \"Number of Dashboards\": \"2\",\n",
    "        \"Number of Standard Resolution Alarm Metrics\": \"5\",\n",
    "        \"Number of High Resolution Alarm Metrics\": \"2\",\n",
    "        \"Number of monitored resources\": \"2 per hour\"\n",
    "    }\n",
    "}\n",
    "config.append(cloud_watch)"
   ]
  },
  {
   "cell_type": "markdown",
   "metadata": {},
   "source": [
    "Hemos elegido CloudWatch para monitorear todo el sistema, generar métricas, y enviar alertas si algún servicio o recurso tiene problemas de rendimiento o disponibilidad."
   ]
  },
  {
   "cell_type": "markdown",
   "metadata": {},
   "source": [
    "## Visualización de costos"
   ]
  },
  {
   "cell_type": "code",
   "execution_count": 47,
   "metadata": {},
   "outputs": [
    {
     "data": {
      "text/html": [
       "<div>\n",
       "<style scoped>\n",
       "    .dataframe tbody tr th:only-of-type {\n",
       "        vertical-align: middle;\n",
       "    }\n",
       "\n",
       "    .dataframe tbody tr th {\n",
       "        vertical-align: top;\n",
       "    }\n",
       "\n",
       "    .dataframe thead th {\n",
       "        text-align: right;\n",
       "    }\n",
       "</style>\n",
       "<table border=\"1\" class=\"dataframe\">\n",
       "  <thead>\n",
       "    <tr style=\"text-align: right;\">\n",
       "      <th></th>\n",
       "      <th>Service Name</th>\n",
       "      <th>Group</th>\n",
       "      <th>Description</th>\n",
       "      <th>Region</th>\n",
       "      <th>monthly</th>\n",
       "      <th>12 months</th>\n",
       "      <th>Instance Type</th>\n",
       "      <th>Storage amount</th>\n",
       "    </tr>\n",
       "  </thead>\n",
       "  <tbody>\n",
       "    <tr>\n",
       "      <th>0</th>\n",
       "      <td>Amazon EC2</td>\n",
       "      <td>Data Access</td>\n",
       "      <td>EC2 Biotech Get Data</td>\n",
       "      <td>US East (N. Virginia)</td>\n",
       "      <td>9.15</td>\n",
       "      <td>109.80</td>\n",
       "      <td>t4g.micro</td>\n",
       "      <td>50 GB</td>\n",
       "    </tr>\n",
       "    <tr>\n",
       "      <th>1</th>\n",
       "      <td>S3 Standard</td>\n",
       "      <td>Data Access</td>\n",
       "      <td>S3 Biotech</td>\n",
       "      <td>US East (N. Virginia)</td>\n",
       "      <td>24.27</td>\n",
       "      <td>291.24</td>\n",
       "      <td></td>\n",
       "      <td>1 TB per month</td>\n",
       "    </tr>\n",
       "    <tr>\n",
       "      <th>2</th>\n",
       "      <td>S3 Glacier Flexible Retrieval</td>\n",
       "      <td>Data Access</td>\n",
       "      <td>S3 Biotech</td>\n",
       "      <td>US East (N. Virginia)</td>\n",
       "      <td>6.91</td>\n",
       "      <td>82.92</td>\n",
       "      <td></td>\n",
       "      <td>500 GB per month</td>\n",
       "    </tr>\n",
       "    <tr>\n",
       "      <th>3</th>\n",
       "      <td>Amazon EC2</td>\n",
       "      <td>Data Processing and Analysis</td>\n",
       "      <td>EC2 Biotech Preprocess Data</td>\n",
       "      <td>US East (N. Virginia)</td>\n",
       "      <td>48.86</td>\n",
       "      <td>586.32</td>\n",
       "      <td>t4g.xlarge</td>\n",
       "      <td>50 GB</td>\n",
       "    </tr>\n",
       "    <tr>\n",
       "      <th>4</th>\n",
       "      <td>Amazon Elastic File System (EFS)</td>\n",
       "      <td>Data Processing and Analysis</td>\n",
       "      <td>NaN</td>\n",
       "      <td>US East (N. Virginia)</td>\n",
       "      <td>17.40</td>\n",
       "      <td>208.80</td>\n",
       "      <td></td>\n",
       "      <td>200 GB per month</td>\n",
       "    </tr>\n",
       "    <tr>\n",
       "      <th>5</th>\n",
       "      <td>Amazon RDS for PostgreSQL</td>\n",
       "      <td>Data Processing and Analysis</td>\n",
       "      <td>RDS for PostgreSQL Biotech</td>\n",
       "      <td>US East (N. Virginia)</td>\n",
       "      <td>307.50</td>\n",
       "      <td>3690.00</td>\n",
       "      <td>db.t3.medium</td>\n",
       "      <td>100 GB</td>\n",
       "    </tr>\n",
       "    <tr>\n",
       "      <th>6</th>\n",
       "      <td>Amazon EKS</td>\n",
       "      <td>Model Prediction</td>\n",
       "      <td>Kubernetes Biotech</td>\n",
       "      <td>US East (N. Virginia)</td>\n",
       "      <td>438.00</td>\n",
       "      <td>5256.00</td>\n",
       "      <td></td>\n",
       "      <td></td>\n",
       "    </tr>\n",
       "    <tr>\n",
       "      <th>7</th>\n",
       "      <td>Amazon EC2</td>\n",
       "      <td>Model Prediction</td>\n",
       "      <td>EC2 Biotech despliegue</td>\n",
       "      <td>US East (N. Virginia)</td>\n",
       "      <td>48.86</td>\n",
       "      <td>586.32</td>\n",
       "      <td>t4g.xlarge</td>\n",
       "      <td>50 GB</td>\n",
       "    </tr>\n",
       "    <tr>\n",
       "      <th>8</th>\n",
       "      <td>Amazon CloudWatch</td>\n",
       "      <td>General</td>\n",
       "      <td>Monitoreo Biotech</td>\n",
       "      <td>US East (N. Virginia)</td>\n",
       "      <td>147.85</td>\n",
       "      <td>1774.20</td>\n",
       "      <td></td>\n",
       "      <td></td>\n",
       "    </tr>\n",
       "  </tbody>\n",
       "</table>\n",
       "</div>"
      ],
      "text/plain": [
       "                       Service Name                         Group  \\\n",
       "0                       Amazon EC2                    Data Access   \n",
       "1                       S3 Standard                   Data Access   \n",
       "2     S3 Glacier Flexible Retrieval                   Data Access   \n",
       "3                       Amazon EC2   Data Processing and Analysis   \n",
       "4  Amazon Elastic File System (EFS)  Data Processing and Analysis   \n",
       "5         Amazon RDS for PostgreSQL  Data Processing and Analysis   \n",
       "6                        Amazon EKS              Model Prediction   \n",
       "7                       Amazon EC2               Model Prediction   \n",
       "8                 Amazon CloudWatch                       General   \n",
       "\n",
       "                   Description                 Region  monthly  12 months  \\\n",
       "0         EC2 Biotech Get Data  US East (N. Virginia)     9.15     109.80   \n",
       "1                   S3 Biotech  US East (N. Virginia)    24.27     291.24   \n",
       "2                   S3 Biotech  US East (N. Virginia)     6.91      82.92   \n",
       "3  EC2 Biotech Preprocess Data  US East (N. Virginia)    48.86     586.32   \n",
       "4                          NaN  US East (N. Virginia)    17.40     208.80   \n",
       "5   RDS for PostgreSQL Biotech  US East (N. Virginia)   307.50    3690.00   \n",
       "6           Kubernetes Biotech  US East (N. Virginia)   438.00    5256.00   \n",
       "7       EC2 Biotech despliegue  US East (N. Virginia)    48.86     586.32   \n",
       "8           Monitoreo Biotech   US East (N. Virginia)   147.85    1774.20   \n",
       "\n",
       "  Instance Type    Storage amount  \n",
       "0     t4g.micro             50 GB  \n",
       "1                  1 TB per month  \n",
       "2                500 GB per month  \n",
       "3    t4g.xlarge             50 GB  \n",
       "4                200 GB per month  \n",
       "5  db.t3.medium            100 GB  \n",
       "6                                  \n",
       "7    t4g.xlarge             50 GB  \n",
       "8                                  "
      ]
     },
     "execution_count": 47,
     "metadata": {},
     "output_type": "execute_result"
    }
   ],
   "source": [
    "df = pd.DataFrame(config)\n",
    "\n",
    "# Convertir las columnas de costos a tipo numérico\n",
    "df['monthly'] = pd.to_numeric(df['Service Cost'].apply(lambda x: x['monthly']))\n",
    "df['12 months'] = pd.to_numeric(df['Service Cost'].apply(lambda x: x['12 months'])) \n",
    "\n",
    "df['Instance Type'] = df['Properties'].apply(lambda x: x.get('Instance Type', x.get('Advance EC2 instance', '')))\n",
    "df['Storage amount'] = df['Properties'].apply(lambda x: x.get('Storage amount', x.get('Desired Storage Capacity', x.get('S3 Standard storage', x.get('S3 Glacier Flexible Retrieval storage', x.get('EBS Storage amount', ''))))))\n",
    "\n",
    "# Remover columna Service Cost\n",
    "df.drop(columns=['Service Cost'], inplace=True)\n",
    "\n",
    "# Remover columna Properties\n",
    "df.drop(columns=['Properties'], inplace=True)\n",
    "df\n"
   ]
  },
  {
   "cell_type": "markdown",
   "metadata": {},
   "source": [
    "### Costos totales"
   ]
  },
  {
   "cell_type": "code",
   "execution_count": 51,
   "metadata": {},
   "outputs": [
    {
     "data": {
      "text/plain": [
       "(np.float64(1048.8), np.float64(12585.6))"
      ]
     },
     "execution_count": 51,
     "metadata": {},
     "output_type": "execute_result"
    }
   ],
   "source": [
    "total_monthly = df['monthly'].sum()\n",
    "total_12_months = df['12 months'].sum()\n",
    "\n",
    "total_monthly, total_12_months"
   ]
  },
  {
   "cell_type": "markdown",
   "metadata": {},
   "source": [
    "Costo total mensual: $1,048.8  \n",
    "Costo total anual: $12,585.6"
   ]
  },
  {
   "cell_type": "markdown",
   "metadata": {},
   "source": [
    "### Costos por grupo"
   ]
  },
  {
   "cell_type": "code",
   "execution_count": 49,
   "metadata": {},
   "outputs": [
    {
     "data": {
      "text/html": [
       "<div>\n",
       "<style scoped>\n",
       "    .dataframe tbody tr th:only-of-type {\n",
       "        vertical-align: middle;\n",
       "    }\n",
       "\n",
       "    .dataframe tbody tr th {\n",
       "        vertical-align: top;\n",
       "    }\n",
       "\n",
       "    .dataframe thead th {\n",
       "        text-align: right;\n",
       "    }\n",
       "</style>\n",
       "<table border=\"1\" class=\"dataframe\">\n",
       "  <thead>\n",
       "    <tr style=\"text-align: right;\">\n",
       "      <th></th>\n",
       "      <th>Group</th>\n",
       "      <th>Service Name</th>\n",
       "      <th>Description</th>\n",
       "      <th>Region</th>\n",
       "      <th>monthly</th>\n",
       "      <th>12 months</th>\n",
       "      <th>Instance Type</th>\n",
       "      <th>Storage amount</th>\n",
       "    </tr>\n",
       "  </thead>\n",
       "  <tbody>\n",
       "    <tr>\n",
       "      <th>0</th>\n",
       "      <td>Data Access</td>\n",
       "      <td>Amazon EC2 S3 StandardS3 Glacier Flexible Retr...</td>\n",
       "      <td>EC2 Biotech Get DataS3 BiotechS3 Biotech</td>\n",
       "      <td>US East (N. Virginia)US East (N. Virginia)US E...</td>\n",
       "      <td>40.33</td>\n",
       "      <td>483.96</td>\n",
       "      <td>t4g.micro</td>\n",
       "      <td>50 GB1 TB per month500 GB per month</td>\n",
       "    </tr>\n",
       "    <tr>\n",
       "      <th>1</th>\n",
       "      <td>Data Processing and Analysis</td>\n",
       "      <td>Amazon EC2 Amazon Elastic File System (EFS)Ama...</td>\n",
       "      <td>EC2 Biotech Preprocess DataRDS for PostgreSQL ...</td>\n",
       "      <td>US East (N. Virginia)US East (N. Virginia)US E...</td>\n",
       "      <td>373.76</td>\n",
       "      <td>4485.12</td>\n",
       "      <td>t4g.xlargedb.t3.medium</td>\n",
       "      <td>50 GB200 GB per month100 GB</td>\n",
       "    </tr>\n",
       "    <tr>\n",
       "      <th>2</th>\n",
       "      <td>General</td>\n",
       "      <td>Amazon CloudWatch</td>\n",
       "      <td>Monitoreo Biotech</td>\n",
       "      <td>US East (N. Virginia)</td>\n",
       "      <td>147.85</td>\n",
       "      <td>1774.20</td>\n",
       "      <td></td>\n",
       "      <td></td>\n",
       "    </tr>\n",
       "    <tr>\n",
       "      <th>3</th>\n",
       "      <td>Model Prediction</td>\n",
       "      <td>Amazon EKSAmazon EC2</td>\n",
       "      <td>Kubernetes BiotechEC2 Biotech despliegue</td>\n",
       "      <td>US East (N. Virginia)US East (N. Virginia)</td>\n",
       "      <td>486.86</td>\n",
       "      <td>5842.32</td>\n",
       "      <td>t4g.xlarge</td>\n",
       "      <td>50 GB</td>\n",
       "    </tr>\n",
       "  </tbody>\n",
       "</table>\n",
       "</div>"
      ],
      "text/plain": [
       "                          Group  \\\n",
       "0                   Data Access   \n",
       "1  Data Processing and Analysis   \n",
       "2                       General   \n",
       "3              Model Prediction   \n",
       "\n",
       "                                        Service Name  \\\n",
       "0  Amazon EC2 S3 StandardS3 Glacier Flexible Retr...   \n",
       "1  Amazon EC2 Amazon Elastic File System (EFS)Ama...   \n",
       "2                                  Amazon CloudWatch   \n",
       "3                              Amazon EKSAmazon EC2    \n",
       "\n",
       "                                         Description  \\\n",
       "0           EC2 Biotech Get DataS3 BiotechS3 Biotech   \n",
       "1  EC2 Biotech Preprocess DataRDS for PostgreSQL ...   \n",
       "2                                 Monitoreo Biotech    \n",
       "3           Kubernetes BiotechEC2 Biotech despliegue   \n",
       "\n",
       "                                              Region  monthly  12 months  \\\n",
       "0  US East (N. Virginia)US East (N. Virginia)US E...    40.33     483.96   \n",
       "1  US East (N. Virginia)US East (N. Virginia)US E...   373.76    4485.12   \n",
       "2                              US East (N. Virginia)   147.85    1774.20   \n",
       "3         US East (N. Virginia)US East (N. Virginia)   486.86    5842.32   \n",
       "\n",
       "            Instance Type                       Storage amount  \n",
       "0               t4g.micro  50 GB1 TB per month500 GB per month  \n",
       "1  t4g.xlargedb.t3.medium          50 GB200 GB per month100 GB  \n",
       "2                                                               \n",
       "3              t4g.xlarge                                50 GB  "
      ]
     },
     "execution_count": 49,
     "metadata": {},
     "output_type": "execute_result"
    }
   ],
   "source": [
    "# Agrupar por \"Group\" y calcular el total por grupo\n",
    "grouped_df = df.groupby('Group').sum()\n",
    "\n",
    "# Mostrar los totales por grupo\n",
    "grouped_df.reset_index(inplace=True)\n",
    "grouped_df"
   ]
  },
  {
   "cell_type": "markdown",
   "metadata": {},
   "source": [
    "Con base en los ingresos y las ganancias de la empresa, esta estimación es muy razonable y sostenible. Los costos representan una pequeña fracción de las ganancias anuales ($5'000,0000), lo que garantiza que la infraestructura no se convierta en una carga financiera. "
   ]
  }
 ],
 "metadata": {
  "kernelspec": {
   "display_name": "cloud-computing",
   "language": "python",
   "name": "python3"
  },
  "language_info": {
   "codemirror_mode": {
    "name": "ipython",
    "version": 3
   },
   "file_extension": ".py",
   "mimetype": "text/x-python",
   "name": "python",
   "nbconvert_exporter": "python",
   "pygments_lexer": "ipython3",
   "version": "3.10.14"
  }
 },
 "nbformat": 4,
 "nbformat_minor": 2
}
