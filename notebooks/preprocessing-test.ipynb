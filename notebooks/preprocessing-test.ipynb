{
 "cells": [
  {
   "cell_type": "code",
   "execution_count": 30,
   "metadata": {},
   "outputs": [
    {
     "data": {
      "text/plain": [
       "True"
      ]
     },
     "execution_count": 30,
     "metadata": {},
     "output_type": "execute_result"
    }
   ],
   "source": [
    "import os\n",
    "import requests, sys\n",
    "import pandas as pd\n",
    "from datetime import datetime\n",
    "import boto3\n",
    "from botocore.exceptions import NoCredentialsError\n",
    "import logging\n",
    "from botocore.exceptions import ClientError\n",
    "import psycopg2 \n",
    "# Leer de las variables de entorno\n",
    "from dotenv import load_dotenv\n",
    "load_dotenv()\n"
   ]
  },
  {
   "cell_type": "code",
   "execution_count": 59,
   "metadata": {},
   "outputs": [],
   "source": [
    "\n",
    "\n",
    "AWS_ACCESS_KEY_ID=os.getenv(\"AWS_ACCESS_KEY_ID\")\n",
    "AWS_SECRET_ACCESS_KEY=os.getenv(\"AWS_SECRET_ACCESS_KEY\")\n",
    "AWS_DEFAULT_REGION = os.getenv(\"AWS_DEFAULT_REGION\")\n",
    "AWS_SESSION_TOKEN=os.getenv(\"AWS_SESSION_TOKEN\")\n",
    "S3_BUCKET_NAME=os.getenv(\"S3_BUCKET_NAME\")\n",
    "RDS_HOSTNAME = os.getenv(\"RDS_HOSTNAME\")\n",
    "RDS_USERNAME = os.getenv(\"RDS_USERNAME\")\n",
    "RDS_PASSWORD = os.getenv(\"RDS_PASSWORD\")\n",
    "RDS_DBNAME = os.getenv(\"RDS_DBNAME\")\n",
    "RDS_PORT = os.getenv(\"RDS_PORT\")\n",
    "#"
   ]
  },
  {
   "cell_type": "code",
   "execution_count": 61,
   "metadata": {},
   "outputs": [
    {
     "data": {
      "text/plain": [
       "{'ResponseMetadata': {'RequestId': 'XZA92EM3KQE9MHYN',\n",
       "  'HostId': 'bACKlIrfblFYnMJjrKnZAbce754O8idlruiT2mXpWnuxFxpRBeVOQ+Lr+sbIO108OeGotYvu/90=',\n",
       "  'HTTPStatusCode': 200,\n",
       "  'HTTPHeaders': {'x-amz-id-2': 'bACKlIrfblFYnMJjrKnZAbce754O8idlruiT2mXpWnuxFxpRBeVOQ+Lr+sbIO108OeGotYvu/90=',\n",
       "   'x-amz-request-id': 'XZA92EM3KQE9MHYN',\n",
       "   'date': 'Fri, 18 Oct 2024 05:13:31 GMT',\n",
       "   'content-type': 'application/xml',\n",
       "   'transfer-encoding': 'chunked',\n",
       "   'server': 'AmazonS3'},\n",
       "  'RetryAttempts': 0},\n",
       " 'Owner': {'DisplayName': 'awslabsc0w4643792t1666354872',\n",
       "  'ID': '4ec064f8672ee90fab63463ef248c7cf04d0d237ac7de2cbde9409ebca112912'},\n",
       " 'Grants': [{'Grantee': {'DisplayName': 'awslabsc0w4643792t1666354872',\n",
       "    'ID': '4ec064f8672ee90fab63463ef248c7cf04d0d237ac7de2cbde9409ebca112912',\n",
       "    'Type': 'CanonicalUser'},\n",
       "   'Permission': 'FULL_CONTROL'}]}"
      ]
     },
     "execution_count": 61,
     "metadata": {},
     "output_type": "execute_result"
    }
   ],
   "source": [
    "# PRUEBA DE CONEXION\n",
    "s3 = boto3.client(\n",
    "    's3', \n",
    "    aws_access_key_id=AWS_ACCESS_KEY_ID,\n",
    "    aws_secret_access_key=AWS_SECRET_ACCESS_KEY,\n",
    "    aws_session_token=AWS_SESSION_TOKEN,)\n",
    "result = s3.get_bucket_acl(Bucket=S3_BUCKET_NAME)\n",
    "result"
   ]
  },
  {
   "cell_type": "markdown",
   "metadata": {},
   "source": [
    "## **REVISAR: ubicacion en local_file_path**"
   ]
  },
  {
   "cell_type": "code",
   "execution_count": 110,
   "metadata": {},
   "outputs": [],
   "source": [
    "\n",
    "# Descargar un archivo desde S3\n",
    "def download_file_from_s3(bucket, s3_file_name, local_file_path):\n",
    "    s3_client = boto3.client('s3', \n",
    "                             aws_access_key_id=AWS_ACCESS_KEY_ID,\n",
    "                             aws_secret_access_key=AWS_SECRET_ACCESS_KEY,\n",
    "                             aws_session_token=AWS_SESSION_TOKEN)\n",
    "    try:\n",
    "        s3_client.download_file(bucket, s3_file_name, local_file_path)\n",
    "        print(f\"Archivo descargado exitosamente a {local_file_path}\")\n",
    "    except ClientError as e:\n",
    "        logging.error(e)\n",
    "        return False\n",
    "    return True\n"
   ]
  },
  {
   "cell_type": "code",
   "execution_count": 111,
   "metadata": {},
   "outputs": [],
   "source": [
    "\n",
    "# Parámetros de S3\n",
    "bucket_name = S3_BUCKET_NAME  # Nombre de tu bucket S3\n",
    "s3_file_name = 'input-data/ensembl_ENSG00000139618_20241017_200540.csv'\n",
    "local_file_path = 'ensembl_ENSG00000139618_download.csv'\n",
    "#local_file_path=\"/tmp/ensembl_data.csv\"  # Ruta local para almacenar temporalmente el archivo\n"
   ]
  },
  {
   "cell_type": "code",
   "execution_count": 105,
   "metadata": {},
   "outputs": [
    {
     "name": "stdout",
     "output_type": "stream",
     "text": [
      "c:\\tmp\\ensembl_data.csv\n"
     ]
    }
   ],
   "source": [
    "'''import os\n",
    "\n",
    "# Obtener la ruta absoluta del archivo\n",
    "local_file_path = os.path.abspath(\"/tmp/ensembl_data.csv\" )\n",
    "print(local_file_path)'''"
   ]
  },
  {
   "cell_type": "code",
   "execution_count": 106,
   "metadata": {},
   "outputs": [
    {
     "name": "stdout",
     "output_type": "stream",
     "text": [
      "La carpeta 'tmp' ya existe.\n"
     ]
    }
   ],
   "source": [
    "'''import os\n",
    "\n",
    "# Verifica si la carpeta 'data' existe\n",
    "folder_path = r'c:\\tmp\\ensembl_data.csv'\n",
    "if not os.path.exists(folder_path):\n",
    "    print(\"La carpeta 'tmp' no existe. Creando carpeta...\")\n",
    "    os.makedirs(folder_path)\n",
    "else:\n",
    "    print(\"La carpeta 'tmp' ya existe.\")'''\n"
   ]
  },
  {
   "cell_type": "code",
   "execution_count": 112,
   "metadata": {},
   "outputs": [
    {
     "name": "stdout",
     "output_type": "stream",
     "text": [
      "Archivo descargado exitosamente a ensembl_ENSG00000139618_download.csv\n"
     ]
    },
    {
     "data": {
      "text/plain": [
       "True"
      ]
     },
     "execution_count": 112,
     "metadata": {},
     "output_type": "execute_result"
    }
   ],
   "source": [
    "\n",
    "# Descargar el archivo desde S3\n",
    "download_file_from_s3(bucket_name, s3_file_name, local_file_path)\n"
   ]
  },
  {
   "cell_type": "code",
   "execution_count": 85,
   "metadata": {},
   "outputs": [
    {
     "name": "stdout",
     "output_type": "stream",
     "text": [
      "Preprocesamiento completado.\n",
      "  feature_type  strand                         alleles clinical_significance  \\\n",
      "0    variation       1  CATCCACAACCACACACCGACCACTCTA,-               Unknown   \n",
      "1    variation       1                             A,C               Unknown   \n",
      "2    variation       1                             C,A               Unknown   \n",
      "3    variation       1                          CTTT,-               Unknown   \n",
      "4    variation       1                         TTTT,TT               Unknown   \n",
      "\n",
      "  consequence_type     start       end  \n",
      "0   intron_variant  32315059  32315086  \n",
      "1   intron_variant  32315086  32315086  \n",
      "2   intron_variant  32315089  32315089  \n",
      "3   intron_variant  32315089  32315092  \n",
      "4   intron_variant  32315090  32315093  \n"
     ]
    }
   ],
   "source": [
    "\n",
    "# Cargar datos CSV localmente (descargado de S3)\n",
    "data = pd.read_csv(local_file_path)\n",
    "\n",
    "# 1. Manejo de valores vacíos en 'clinical_significance'\n",
    "data['clinical_significance'] = data['clinical_significance'].apply(\n",
    "    lambda x: 'Unknown' if x == '[]' else x)\n",
    "\n",
    "# 2. Convertir 'alleles' a texto plano\n",
    "data['alleles'] = data['alleles'].str.strip(\"[]\").str.replace(\"'\", \"\").str.replace(\" \", \"\")\n",
    "\n",
    "# 3. Eliminar columnas innecesarias\n",
    "columns_to_drop = ['source', 'assembly_name', 'seq_region_name', 'id']\n",
    "data_filtered = data.drop(columns=columns_to_drop)\n",
    "\n",
    "# 4. Agrupación de la variable 'clinical_significance'\n",
    "def group_clinical_significance(value):\n",
    "    if 'benign' in value:\n",
    "        return 'benign'\n",
    "    elif 'pathogenic' in value:\n",
    "        return 'pathogenic'\n",
    "    elif 'uncertain significance' in value:\n",
    "        return 'uncertain_significance'\n",
    "    else:\n",
    "        return 'Unknown'\n",
    "\n",
    "data_filtered['clinical_significance'] = data_filtered['clinical_significance'].apply(group_clinical_significance)\n",
    "\n",
    "# Mostrar el resultado del preprocesamiento\n",
    "print(\"Preprocesamiento completado.\")\n",
    "print(data_filtered.head())\n"
   ]
  },
  {
   "cell_type": "code",
   "execution_count": 88,
   "metadata": {},
   "outputs": [],
   "source": [
    "\n",
    "# Guardar los datos preprocesados en un archivo CSV local (temporal)\n",
    "preprocessed_file_path = \"preprocessed_data.csv\"\n",
    "data_filtered.to_csv(preprocessed_file_path, index=False)\n",
    "# Guardar datos preprocesados en la base de datos RDS (PostgreSQL)\n",
    "def save_to_rds(dataframe):\n",
    "    try:\n",
    "        conn = psycopg2.connect(\n",
    "            host=RDS_HOSTNAME,\n",
    "            user=RDS_USERNAME,\n",
    "            password=RDS_PASSWORD,\n",
    "            dbname=RDS_DBNAME,\n",
    "            port=RDS_PORT\n",
    "        )\n",
    "        cursor = conn.cursor()\n",
    "        for index, row in dataframe.iterrows():\n",
    "            cursor.execute(\n",
    "                \"INSERT INTO preprocessed_data (consequence_type, alleles, start, end, clinical_significance) VALUES (%s, %s, %s, %s, %s)\",\n",
    "                (row['consequence_type'], row['alleles'], row['start'], row['end'], row['clinical_significance'])\n",
    "            )\n",
    "        conn.commit()\n",
    "        cursor.close()\n",
    "        conn.close()\n",
    "        print(\"Datos guardados exitosamente en RDS.\")\n",
    "    except Exception as e:\n",
    "        print(f\"Error al guardar los datos en RDS: {e}\")\n"
   ]
  },
  {
   "cell_type": "code",
   "execution_count": 90,
   "metadata": {},
   "outputs": [
    {
     "name": "stdout",
     "output_type": "stream",
     "text": [
      "Error al guardar los datos en RDS: could not connect to server: Connection timed out (0x0000274C/10060)\n",
      "\tIs the server running on host \"database-biotech.ccax6bbjlnva.us-east-1.rds.amazonaws.com\" (3.228.206.45) and accepting\n",
      "\tTCP/IP connections on port 5432?\n",
      "\n"
     ]
    }
   ],
   "source": [
    "\n",
    "# Guardar los datos preprocesados en RDS\n",
    "save_to_rds(data_filtered)"
   ]
  }
 ],
 "metadata": {
  "kernelspec": {
   "display_name": "cloud_estudiante",
   "language": "python",
   "name": "python3"
  },
  "language_info": {
   "codemirror_mode": {
    "name": "ipython",
    "version": 3
   },
   "file_extension": ".py",
   "mimetype": "text/x-python",
   "name": "python",
   "nbconvert_exporter": "python",
   "pygments_lexer": "ipython3",
   "version": "3.10.14"
  }
 },
 "nbformat": 4,
 "nbformat_minor": 2
}
