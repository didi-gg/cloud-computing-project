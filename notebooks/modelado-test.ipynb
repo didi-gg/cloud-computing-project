{
  "cells": [
    {
      "cell_type": "code",
      "execution_count": 1,
      "metadata": {},
      "outputs": [
        {
          "data": {
            "text/plain": [
              "True"
            ]
          },
          "execution_count": 1,
          "metadata": {},
          "output_type": "execute_result"
        }
      ],
      "source": [
        "import os\n",
        "import requests, sys\n",
        "import pandas as pd\n",
        "from datetime import datetime\n",
        "import boto3\n",
        "from botocore.exceptions import NoCredentialsError\n",
        "import logging\n",
        "from botocore.exceptions import ClientError\n",
        "import psycopg2 \n",
        "# Leer de las variables de entorno\n",
        "from dotenv import load_dotenv\n",
        "load_dotenv()\n"
      ]
    },
    {
      "cell_type": "code",
      "execution_count": 2,
      "metadata": {},
      "outputs": [],
      "source": [
        "AWS_ACCESS_KEY_ID=os.getenv(\"AWS_ACCESS_KEY_ID\")\n",
        "AWS_SECRET_ACCESS_KEY=os.getenv(\"AWS_SECRET_ACCESS_KEY\")\n",
        "AWS_DEFAULT_REGION = os.getenv(\"AWS_DEFAULT_REGION\")\n",
        "AWS_SESSION_TOKEN=os.getenv(\"AWS_SESSION_TOKEN\")\n",
        "S3_BUCKET_NAME=os.getenv(\"S3_BUCKET_NAME\")\n",
        "RDS_HOSTNAME = os.getenv(\"RDS_HOSTNAME\")\n",
        "RDS_USERNAME = os.getenv(\"RDS_USERNAME\")\n",
        "RDS_PASSWORD = os.getenv(\"RDS_PASSWORD\")\n",
        "RDS_DBNAME = os.getenv(\"RDS_DBNAME\")\n",
        "RDS_PORT = os.getenv(\"RDS_PORT\")\n"
      ]
    },
    {
      "cell_type": "code",
      "execution_count": 3,
      "metadata": {},
      "outputs": [
        {
          "data": {
            "text/plain": [
              "{'ResponseMetadata': {'RequestId': '9G9ZRGSH5MDA047Y',\n",
              "  'HostId': '1T7GvW/fcZsUWz/3rWPFmQkEPsGDmnAsSb57CyfUBeZ9cUUZsyFWhEBXL+QBl3TZVVF7COWLuao=',\n",
              "  'HTTPStatusCode': 200,\n",
              "  'HTTPHeaders': {'x-amz-id-2': '1T7GvW/fcZsUWz/3rWPFmQkEPsGDmnAsSb57CyfUBeZ9cUUZsyFWhEBXL+QBl3TZVVF7COWLuao=',\n",
              "   'x-amz-request-id': '9G9ZRGSH5MDA047Y',\n",
              "   'date': 'Sat, 19 Oct 2024 19:24:37 GMT',\n",
              "   'content-type': 'application/xml',\n",
              "   'transfer-encoding': 'chunked',\n",
              "   'server': 'AmazonS3'},\n",
              "  'RetryAttempts': 0},\n",
              " 'Owner': {'DisplayName': 'awslabsc0w4643792t1666354872',\n",
              "  'ID': '4ec064f8672ee90fab63463ef248c7cf04d0d237ac7de2cbde9409ebca112912'},\n",
              " 'Grants': [{'Grantee': {'DisplayName': 'awslabsc0w4643792t1666354872',\n",
              "    'ID': '4ec064f8672ee90fab63463ef248c7cf04d0d237ac7de2cbde9409ebca112912',\n",
              "    'Type': 'CanonicalUser'},\n",
              "   'Permission': 'FULL_CONTROL'}]}"
            ]
          },
          "execution_count": 3,
          "metadata": {},
          "output_type": "execute_result"
        }
      ],
      "source": [
        "# PRUEBA DE CONEXION\n",
        "s3 = boto3.client(\n",
        "    's3', \n",
        "    aws_access_key_id=AWS_ACCESS_KEY_ID,\n",
        "    aws_secret_access_key=AWS_SECRET_ACCESS_KEY,\n",
        "    aws_session_token=AWS_SESSION_TOKEN,)\n",
        "result = s3.get_bucket_acl(Bucket=S3_BUCKET_NAME)\n",
        "result"
      ]
    },
    {
      "cell_type": "code",
      "execution_count": 4,
      "metadata": {},
      "outputs": [],
      "source": [
        "import pandas as pd\n",
        "import psycopg2\n",
        "from sklearn.model_selection import train_test_split\n",
        "from sklearn.ensemble import RandomForestClassifier\n",
        "from sklearn.preprocessing import LabelEncoder\n",
        "from sklearn.metrics import accuracy_score, classification_report, confusion_matrix\n",
        "\n",
        "# Cargar datos preprocesados desde RDS (PostgreSQL)\n",
        "def load_from_rds():\n",
        "    try:\n",
        "        conn = psycopg2.connect(\n",
        "            host=RDS_HOSTNAME,  # Reemplaza con tu endpoint de RDS\n",
        "            user=RDS_USERNAME,  # Reemplaza con tu usuario de RDS\n",
        "            password=RDS_PASSWORD,  # Reemplaza con tu contraseña de RDS\n",
        "            dbname=RDS_DBNAME,  # Reemplaza con tu base de datos de RDS\n",
        "            port=RDS_PORT  # Puerto estándar de PostgreSQL\n",
        "        )\n",
        "        query = \"SELECT * FROM preprocessed_data\"  # Reemplaza con tu tabla de datos preprocesados\n",
        "        df = pd.read_sql(query, conn)\n",
        "        conn.close()\n",
        "        return df\n",
        "    except Exception as e:\n",
        "        print(f\"Error al cargar los datos desde RDS: {e}\")\n"
      ]
    },
    {
      "cell_type": "code",
      "execution_count": 5,
      "metadata": {},
      "outputs": [
        {
          "name": "stderr",
          "output_type": "stream",
          "text": [
            "C:\\Users\\lilia\\AppData\\Local\\Temp\\ipykernel_8568\\3200790176.py:19: UserWarning: pandas only supports SQLAlchemy connectable (engine/connection) or database string URI or sqlite3 DBAPI2 connection. Other DBAPI2 objects are not tested. Please consider using SQLAlchemy.\n",
            "  df = pd.read_sql(query, conn)\n"
          ]
        },
        {
          "name": "stdout",
          "output_type": "stream",
          "text": [
            "Exactitud del modelo: 0.8790\n",
            "Reporte de Clasificación:\n",
            "              precision    recall  f1-score   support\n",
            "\n",
            "           0       0.42      0.36      0.39        78\n",
            "           1       0.96      0.96      0.96       827\n",
            "           2       0.66      0.66      0.66        41\n",
            "           3       0.48      0.56      0.51        54\n",
            "\n",
            "    accuracy                           0.88      1000\n",
            "   macro avg       0.63      0.63      0.63      1000\n",
            "weighted avg       0.88      0.88      0.88      1000\n",
            "\n"
          ]
        }
      ],
      "source": [
        "\n",
        "# Cargar los datos preprocesados desde RDS\n",
        "data_filtered = load_from_rds()\n",
        "\n",
        "# Codificar las columnas categóricas si es necesario\n",
        "le = LabelEncoder()\n",
        "\n",
        "# Codificar 'clinical_significance' para que sea numérica\n",
        "data_filtered['clinical_significance'] = le.fit_transform(data_filtered['clinical_significance'])\n",
        "\n",
        "# Codificar otras columnas categóricas que contengan texto\n",
        "categorical_columns = ['consequence_type', 'alleles', 'feature_type']\n",
        "for col in categorical_columns:\n",
        "    data_filtered[col] = le.fit_transform(data_filtered[col])\n",
        "\n",
        "# Separar variables independientes (X) y dependiente (y)\n",
        "X = data_filtered.drop(columns=['clinical_significance'])\n",
        "y = data_filtered['clinical_significance']\n",
        "\n",
        "# Dividir el dataset en entrenamiento y prueba (80/20)\n",
        "X_train, X_test, y_train, y_test = train_test_split(X, y, test_size=0.2, random_state=42)\n",
        "\n",
        "# Crear y entrenar el modelo Random Forest\n",
        "rf_model = RandomForestClassifier(n_estimators=100, random_state=42)\n",
        "rf_model.fit(X_train, y_train)\n",
        "\n",
        "# Predecir en el conjunto de prueba\n",
        "y_pred = rf_model.predict(X_test)\n",
        "\n",
        "# Evaluar el modelo\n",
        "accuracy = accuracy_score(y_test, y_pred)\n",
        "print(f\"Exactitud del modelo: {accuracy:.4f}\")\n",
        "print(\"Reporte de Clasificación:\")\n",
        "print(classification_report(y_test, y_pred))\n"
      ]
    },
    {
      "cell_type": "code",
      "execution_count": 13,
      "metadata": {},
      "outputs": [
        {
          "name": "stdout",
          "output_type": "stream",
          "text": [
            "Predicciones guardadas exitosamente en RDS.\n"
          ]
        }
      ],
      "source": [
        "\n",
        "# Guardar resultados de predicciones en RDS (PostgreSQL)\n",
        "def save_predictions_to_rds(X_test, predictions):\n",
        "    try:\n",
        "        conn = psycopg2.connect(\n",
        "            host=RDS_HOSTNAME,  # Reemplaza con tu endpoint de RDS\n",
        "            user=RDS_USERNAME,  # Reemplaza con tu usuario de RDS\n",
        "            password=RDS_PASSWORD,  # Reemplaza con tu contraseña de RDS\n",
        "            dbname=RDS_DBNAME,  # Reemplaza con tu base de datos de RDS\n",
        "            port=RDS_PORT  # Puerto estándar de PostgreSQL\n",
        "        )\n",
        "        cursor = conn.cursor()\n",
        "        for idx, pred in enumerate(predictions):\n",
        "            #int_variation_id=X_test.index[idx]\n",
        "            #int_prediction=(int)pred\n",
        "\n",
        "            cursor.execute(\"INSERT INTO predictions (variation_id, prediction) VALUES (%s, %s)\",\n",
        "                           (X_test.index[idx].item(),pred.item()))\n",
        "        conn.commit()\n",
        "        cursor.close()\n",
        "        conn.close()\n",
        "        print(\"Predicciones guardadas exitosamente en RDS.\")\n",
        "    except Exception as e:\n",
        "        print(f\"Error al guardar las predicciones en RDS: {e}\")\n",
        "\n",
        "# Guardar las predicciones en RDS\n",
        "save_predictions_to_rds(X_test, y_pred)\n",
        "\n"
      ]
    },
    {
      "cell_type": "code",
      "execution_count": null,
      "metadata": {},
      "outputs": [],
      "source": [
        "CREATE TABLE preprocessed_data (\n",
        "    consequence_type VARCHAR(255),\n",
        "    clinical_significance VARCHAR(255),\n",
        "    feature_type VARCHAR(255),\n",
        "    start INT,\n",
        "    \"end\" INT,\n",
        "    strand INT,\n",
        "    alleles VARCHAR(1000)\n",
        ");\n",
        "\n",
        "CREATE TABLE predictions (\n",
        "    variation_id INT,\n",
        "    prediction INT\n",
        ");\n"
      ]
    },
    {
      "cell_type": "code",
      "execution_count": null,
      "metadata": {},
      "outputs": [],
      "source": [
        "# Dockerfile for preprocessing data and saving to S3\n",
        "\n",
        "# Use an official Python runtime as a parent image\n",
        "FROM python:3.9-slim\n",
        "\n",
        "# Set the working directory in the container\n",
        "WORKDIR /usr/src/app\n",
        "\n",
        "# Copy the current directory contents into the container at /usr/src/app\n",
        "COPY . .\n",
        "\n",
        "# Install any necessary dependencies\n",
        "RUN pip install --no-cache-dir pandas boto3\n",
        "\n",
        "# Command to run the script\n",
        "CMD [\"python\", \"./preprocessing_to_s3.py\"]\n"
      ]
    },
    {
      "cell_type": "code",
      "execution_count": null,
      "metadata": {},
      "outputs": [],
      "source": [
        "# Dockerfile for loading data from S3, training a model, and saving predictions to RDS\n",
        "\n",
        "# Use an official Python runtime as a parent image\n",
        "FROM python:3.9-slim\n",
        "\n",
        "# Set the working directory in the container\n",
        "WORKDIR /usr/src/app\n",
        "\n",
        "# Copy the current directory contents into the container at /usr/src/app\n",
        "COPY . .\n",
        "\n",
        "# Install any necessary dependencies\n",
        "RUN pip install --no-cache-dir pandas scikit-learn mysql-connector-python boto3\n",
        "\n",
        "# Command to run the script\n",
        "CMD [\"python\", \"./modeling_from_s3_to_rds.py\"]\n"
      ]
    }
  ],
  "metadata": {
    "colab": {
      "provenance": []
    },
    "kernelspec": {
      "display_name": "cloud_estudiante",
      "language": "python",
      "name": "python3"
    },
    "language_info": {
      "codemirror_mode": {
        "name": "ipython",
        "version": 3
      },
      "file_extension": ".py",
      "mimetype": "text/x-python",
      "name": "python",
      "nbconvert_exporter": "python",
      "pygments_lexer": "ipython3",
      "version": "3.10.14"
    }
  },
  "nbformat": 4,
  "nbformat_minor": 0
}
